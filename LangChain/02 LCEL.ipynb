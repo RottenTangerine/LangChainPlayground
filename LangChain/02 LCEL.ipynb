{
 "cells": [
  {
   "cell_type": "code",
   "execution_count": null,
   "id": "initial_id",
   "metadata": {
    "collapsed": true
   },
   "outputs": [],
   "source": "from utils.LLM import model"
  },
  {
   "metadata": {},
   "cell_type": "code",
   "outputs": [],
   "execution_count": 16,
   "source": "from langchain_core.output_parsers import JsonOutputParser",
   "id": "ff72bc39a2581ea1"
  },
  {
   "metadata": {},
   "cell_type": "code",
   "outputs": [
    {
     "name": "stdout",
     "output_type": "stream",
     "text": [
      "{}\n",
      "{'countries': []}\n",
      "{'countries': [{}]}\n",
      "{'countries': [{'name': ''}]}\n",
      "{'countries': [{'name': 'France'}]}\n",
      "{'countries': [{'name': 'France', 'population': 652}]}\n",
      "{'countries': [{'name': 'France', 'population': 652735}]}\n",
      "{'countries': [{'name': 'France', 'population': 65273511}]}\n",
      "{'countries': [{'name': 'France', 'population': 65273511}, {}]}\n",
      "{'countries': [{'name': 'France', 'population': 65273511}, {'name': ''}]}\n",
      "{'countries': [{'name': 'France', 'population': 65273511}, {'name': 'Spain'}]}\n",
      "{'countries': [{'name': 'France', 'population': 65273511}, {'name': 'Spain', 'population': 473}]}\n",
      "{'countries': [{'name': 'France', 'population': 65273511}, {'name': 'Spain', 'population': 473515}]}\n",
      "{'countries': [{'name': 'France', 'population': 65273511}, {'name': 'Spain', 'population': 47351567}]}\n",
      "{'countries': [{'name': 'France', 'population': 65273511}, {'name': 'Spain', 'population': 47351567}, {}]}\n",
      "{'countries': [{'name': 'France', 'population': 65273511}, {'name': 'Spain', 'population': 47351567}, {'name': ''}]}\n",
      "{'countries': [{'name': 'France', 'population': 65273511}, {'name': 'Spain', 'population': 47351567}, {'name': 'Japan'}]}\n",
      "{'countries': [{'name': 'France', 'population': 65273511}, {'name': 'Spain', 'population': 47351567}, {'name': 'Japan', 'population': 126}]}\n",
      "{'countries': [{'name': 'France', 'population': 65273511}, {'name': 'Spain', 'population': 47351567}, {'name': 'Japan', 'population': 126476}]}\n",
      "{'countries': [{'name': 'France', 'population': 65273511}, {'name': 'Spain', 'population': 47351567}, {'name': 'Japan', 'population': 126476461}]}\n"
     ]
    }
   ],
   "execution_count": 20,
   "source": [
    "chain = model | JsonOutputParser()\n",
    "\n",
    "\n",
    "async def async_stream():\n",
    "    async for text in chain.astream(\"以JSON格式输出法国,西班牙和日本的国家以及人口列表, 使用一个带有'countries'外部键的字典,其中包含国家列表, 每个国家都应该有键'name'和'population'\"):\n",
    "        print(text)\n",
    "        \n",
    "await async_stream()"
   ],
   "id": "dda05a7cd7acf2d8"
  },
  {
   "metadata": {},
   "cell_type": "markdown",
   "source": [
    "`astream`是异步的流式处理而不是异步执行\n",
    "model | JsonOutputParser() 是同步执行的\n",
    "_extract_country_name是在前两部调用完进行调用的\n"
   ],
   "id": "5d6889aa543132b0"
  },
  {
   "metadata": {},
   "cell_type": "code",
   "outputs": [
    {
     "name": "stdout",
     "output_type": "stream",
     "text": [
      "['France', 'Spain', 'Japan']\n"
     ]
    }
   ],
   "execution_count": 26,
   "source": [
    "async def async_stream():\n",
    "    def _extract_country_names(inputs):\n",
    "        if not isinstance(inputs, dict):\n",
    "            return \"\"\n",
    "        \n",
    "        if \"countries\" not in inputs:\n",
    "            return \"\"\n",
    "        \n",
    "        countries = inputs[\"countries\"]\n",
    "        \n",
    "        if not isinstance(countries, list):\n",
    "            return \"\"\n",
    "        \n",
    "        country_names = [\n",
    "            country.get(\"name\") for country in countries if isinstance(country, dict)\n",
    "        ]\n",
    "        return country_names\n",
    "    \n",
    "    chain = model | JsonOutputParser() | _extract_country_names\n",
    "    \n",
    "    async for text in chain.astream(\"以JSON格式输出法国,西班牙和日本的国家以及人口列表, 使用一个带有'countries'外部键的字典,其中包含国家列表, 每个国家都应该有键'name'和'population'\"):\n",
    "        print(text)\n",
    "        \n",
    "# asyncio.run(async_stream())  # Jupyter 内核（尤其是 IPython 7.0+）默认启用了异步支持，并预先启动了一个事件循环。直接调用 asyncio.run() 会尝试创建新的事件循环，与现有循环冲突。改为await\n",
    "await async_stream()"
   ],
   "id": "567f8e0b96a5814c"
  },
  {
   "metadata": {},
   "cell_type": "code",
   "outputs": [],
   "execution_count": null,
   "source": "",
   "id": "c716c9a0bd96820c"
  }
 ],
 "metadata": {
  "kernelspec": {
   "display_name": "Python 3",
   "language": "python",
   "name": "python3"
  },
  "language_info": {
   "codemirror_mode": {
    "name": "ipython",
    "version": 2
   },
   "file_extension": ".py",
   "mimetype": "text/x-python",
   "name": "python",
   "nbconvert_exporter": "python",
   "pygments_lexer": "ipython2",
   "version": "2.7.6"
  }
 },
 "nbformat": 4,
 "nbformat_minor": 5
}
