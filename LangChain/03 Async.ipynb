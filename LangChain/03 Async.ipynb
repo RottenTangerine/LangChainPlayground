{
 "cells": [
  {
   "metadata": {
    "ExecuteTime": {
     "end_time": "2025-02-19T20:14:38.347381Z",
     "start_time": "2025-02-19T20:14:38.342901Z"
    }
   },
   "cell_type": "code",
   "source": "from LLM import model",
   "id": "4c1b610482adcc27",
   "outputs": [],
   "execution_count": 4
  },
  {
   "metadata": {
    "ExecuteTime": {
     "end_time": "2025-02-19T20:14:38.387690Z",
     "start_time": "2025-02-19T20:14:38.384355Z"
    }
   },
   "cell_type": "code",
   "source": "question = \"天空是什么颜色？\"   ",
   "id": "89d2739bc990d264",
   "outputs": [],
   "execution_count": 5
  },
  {
   "metadata": {},
   "cell_type": "markdown",
   "source": "## Sync Call",
   "id": "515f35e80f6277d5"
  },
  {
   "metadata": {
    "ExecuteTime": {
     "end_time": "2025-02-19T20:14:47.013035Z",
     "start_time": "2025-02-19T20:14:38.388700Z"
    }
   },
   "cell_type": "code",
   "source": [
    "chunks = []\n",
    "for chunk in model.stream(question):\n",
    "    chunks.append(chunk)\n",
    "    print(chunk.content, end=\"|\", flush=True)"
   ],
   "id": "63147a8be9e351f5",
   "outputs": [
    {
     "name": "stdout",
     "output_type": "stream",
     "text": [
      "|天空|的颜色|主要|取决于|大气|中的|散射|现象|以及|太阳|光|的角度|。|在|晴朗|的|白天|，|天空|通常|呈现|**|蓝色|**|，|这是因为|太阳|光|中的|短|波长|蓝|光|在大|气|中|散射|得|更多|。|而在|日出|和|日落|时|，|天空|可能|呈现|**|橙色|、|红色|或|粉|红色|**|，|这是因为|太阳|光|穿过|更|厚|的大|气|层|，|蓝|光|被|散射|掉|，|剩下|波长|较|长的|红光|和|橙|光|。\n",
      "\n",
      "|在|阴|天|或多|云|时|，|天空|可能|呈现|**|灰色|或|白色|**|，|因为|云|层|散射|了|所有|波|长的|光|。|夜晚|时|，|天空|通常是|**|黑色|**|的|，|因为没有|太阳|光的|照射|。|\n",
      "\n",
      "|所以|，|天空|的颜色|并不是|固定的|，|而是|随着|时间|、|天气|和|观察|角|度的|变化|而变化|。||"
     ]
    }
   ],
   "execution_count": 6
  },
  {
   "metadata": {},
   "cell_type": "markdown",
   "source": "## Async Call",
   "id": "4c80c178ddbd16ec"
  },
  {
   "metadata": {
    "ExecuteTime": {
     "end_time": "2025-02-19T20:14:47.018938Z",
     "start_time": "2025-02-19T20:14:47.015537Z"
    }
   },
   "cell_type": "code",
   "source": "import asyncio",
   "id": "8bfdaf6785e2ebb8",
   "outputs": [],
   "execution_count": 7
  },
  {
   "metadata": {
    "ExecuteTime": {
     "end_time": "2025-02-19T21:16:26.665376Z",
     "start_time": "2025-02-19T21:16:26.660903Z"
    }
   },
   "cell_type": "code",
   "source": [
    "async def async_stream():  # 必须要套在一个async方法内\n",
    "    chunks = []\n",
    "    async for chunk in model.astream(question):\n",
    "        chunks.append(chunk)\n",
    "\n",
    "        if len(chunks) == 2:\n",
    "            print(chunks[1])\n",
    "        print(chunk.content, end=\"|\", flush=True)\n",
    "\n",
    "# asyncio.run(async_stream())  # Jupyter 内核（尤其是 IPython 7.0+）默认启用了异步支持，并预先启动了一个事件循环。直接调用 asyncio.run() 会尝试创建新的事件循环，与现有循环冲突。改为await\n",
    "await async_stream()"
   ],
   "id": "bf331589d5f1eca",
   "outputs": [],
   "execution_count": 28
  }
 ],
 "metadata": {
  "kernelspec": {
   "display_name": "Python 3",
   "language": "python",
   "name": "python3"
  },
  "language_info": {
   "codemirror_mode": {
    "name": "ipython",
    "version": 2
   },
   "file_extension": ".py",
   "mimetype": "text/x-python",
   "name": "python",
   "nbconvert_exporter": "python",
   "pygments_lexer": "ipython2",
   "version": "2.7.6"
  }
 },
 "nbformat": 4,
 "nbformat_minor": 5
}
