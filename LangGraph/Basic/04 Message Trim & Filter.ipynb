{
 "cells": [
  {
   "cell_type": "code",
   "id": "initial_id",
   "metadata": {
    "collapsed": true,
    "ExecuteTime": {
     "end_time": "2025-02-20T16:53:43.230118Z",
     "start_time": "2025-02-20T16:53:43.226538Z"
    }
   },
   "source": [
    "from utils.LLM import model\n",
    "\n",
    "\n",
    "from IPython.display import display, Image"
   ],
   "outputs": [],
   "execution_count": 15
  },
  {
   "metadata": {
    "ExecuteTime": {
     "end_time": "2025-02-20T16:53:43.299324Z",
     "start_time": "2025-02-20T16:53:43.294823Z"
    }
   },
   "cell_type": "code",
   "source": [
    "from langchain_core.messages import HumanMessage, AIMessage\n",
    "\n",
    "messages = [AIMessage(f\"所以你说你正在研究海洋生物吗?\", name=\"Bot\"),\n",
    "            HumanMessage(f\"是的我知道蓝鲸,还有什么其他的可以了解吗?\", name=\"RottenTangerine\")]\n",
    "\n",
    "for m in messages:\n",
    "    m.pretty_print()"
   ],
   "id": "8f525d63f5a3ad99",
   "outputs": [
    {
     "name": "stdout",
     "output_type": "stream",
     "text": [
      "==================================\u001B[1m Ai Message \u001B[0m==================================\n",
      "Name: Bot\n",
      "\n",
      "所以你说你正在研究海洋生物吗?\n",
      "================================\u001B[1m Human Message \u001B[0m=================================\n",
      "Name: RottenTangerine\n",
      "\n",
      "是的我知道蓝鲸,还有什么其他的可以了解吗?\n"
     ]
    }
   ],
   "execution_count": 16
  },
  {
   "metadata": {
    "ExecuteTime": {
     "end_time": "2025-02-20T16:53:51.119914Z",
     "start_time": "2025-02-20T16:53:43.313904Z"
    }
   },
   "cell_type": "code",
   "source": "model.invoke(messages)",
   "id": "54ca9cc486b5f0c2",
   "outputs": [
    {
     "data": {
      "text/plain": [
       "AIMessage(content='海洋生物种类繁多，除了蓝鲸，还有许多其他有趣的生物。例如，海豚以其高智商和复杂的社会行为而闻名。章鱼则以其卓越的伪装能力和解决问题的能力著称。珊瑚礁是海洋中的“热带雨林”，拥有极高的生物多样性，包括各种鱼类、甲壳类和软体动物。此外，深海生物如发光鱼和巨型乌贼，由于生活在极端环境中，具有独特的适应机制。这些生物不仅丰富了海洋生态系统，也为科学研究提供了宝贵的资源。', additional_kwargs={'refusal': None}, response_metadata={'token_usage': {'completion_tokens': 100, 'prompt_tokens': 24, 'total_tokens': 124, 'completion_tokens_details': None, 'prompt_tokens_details': {'audio_tokens': None, 'cached_tokens': 0}, 'prompt_cache_hit_tokens': 0, 'prompt_cache_miss_tokens': 24}, 'model_name': 'deepseek-chat', 'system_fingerprint': 'fp_3a5770e1b4', 'finish_reason': 'stop', 'logprobs': None}, id='run-da3d7785-8043-4f66-aa57-a3bb3ce9d58c-0', usage_metadata={'input_tokens': 24, 'output_tokens': 100, 'total_tokens': 124, 'input_token_details': {'cache_read': 0}, 'output_token_details': {}})"
      ]
     },
     "execution_count": 17,
     "metadata": {},
     "output_type": "execute_result"
    }
   ],
   "execution_count": 17
  },
  {
   "metadata": {},
   "cell_type": "markdown",
   "source": "## Graph",
   "id": "394240660fd95a1a"
  },
  {
   "metadata": {
    "ExecuteTime": {
     "end_time": "2025-02-20T16:53:51.128282Z",
     "start_time": "2025-02-20T16:53:51.121628Z"
    }
   },
   "cell_type": "code",
   "source": [
    "from langgraph.graph import StateGraph, START, END, MessagesState\n",
    "\n",
    "def chat_model_node(state: MessagesState):\n",
    "    return {\"messages\": model.invoke(state[\"messages\"])}\n",
    "\n",
    "builder = StateGraph(MessagesState)\n",
    "\n",
    "builder.add_node(\"chat_model_node\", chat_model_node)\n",
    "\n",
    "builder.add_edge(START, \"chat_model_node\")\n",
    "builder.add_edge(\"chat_model_node\", END)\n",
    "\n",
    "graph = builder.compile()"
   ],
   "id": "fe4e1e9d06ef14b4",
   "outputs": [],
   "execution_count": 18
  },
  {
   "metadata": {
    "ExecuteTime": {
     "end_time": "2025-02-20T16:53:59.682783Z",
     "start_time": "2025-02-20T16:53:51.129286Z"
    }
   },
   "cell_type": "code",
   "source": [
    "output = graph.invoke({\"messages\": messages})\n",
    "for m in output[\"messages\"]:\n",
    "    m.pretty_print()"
   ],
   "id": "6fa89604c7f44747",
   "outputs": [
    {
     "name": "stdout",
     "output_type": "stream",
     "text": [
      "==================================\u001B[1m Ai Message \u001B[0m==================================\n",
      "Name: Bot\n",
      "\n",
      "所以你说你正在研究海洋生物吗?\n",
      "================================\u001B[1m Human Message \u001B[0m=================================\n",
      "Name: RottenTangerine\n",
      "\n",
      "是的我知道蓝鲸,还有什么其他的可以了解吗?\n",
      "==================================\u001B[1m Ai Message \u001B[0m==================================\n",
      "\n",
      "海洋生物种类繁多，除了蓝鲸，还有许多其他有趣的生物。例如，海豚以其高智商和复杂的社会行为而闻名，它们能够使用回声定位来导航和捕食。章鱼则以其卓越的伪装能力和解决问题的能力著称，它们能够改变皮肤颜色和纹理以融入环境，甚至能够使用工具。珊瑚礁是海洋中的“热带雨林”，它们支持着丰富的生物多样性，包括各种鱼类、甲壳类和软体动物。此外，深海生物如发光鱼和巨型乌贼，适应了极端的环境条件，展现了生命的顽强和多样性。这些生物不仅丰富了海洋生态系统，也为科学研究提供了宝贵的资源。\n"
     ]
    }
   ],
   "execution_count": 19
  },
  {
   "metadata": {},
   "cell_type": "markdown",
   "source": "# Filter: For Long Running Conversations",
   "id": "f6bc9576ff28262f"
  },
  {
   "metadata": {
    "ExecuteTime": {
     "end_time": "2025-02-20T16:53:59.689363Z",
     "start_time": "2025-02-20T16:53:59.684848Z"
    }
   },
   "cell_type": "code",
   "source": [
    "messages = [\n",
    "    AIMessage(\"Hi.\", name=\"Bot\", id=\"1\"),\n",
    "    HumanMessage(\"Hi.\", name=\"Lance\", id=\"2\"),\n",
    "    AIMessage(f\"所以你说你正在研究海洋生物吗?\", name=\"Bot\", id=\"3\"),\n",
    "    HumanMessage(f\"是的我了解蓝鲸,可以详细讲讲还有什么其他的可以了解吗?\", name=\"RottenTangerine\", id=\"4\")\n",
    "]"
   ],
   "id": "5ad4649a0fb1997b",
   "outputs": [],
   "execution_count": 20
  },
  {
   "metadata": {},
   "cell_type": "markdown",
   "source": "## Delete messages before LLM model invoke",
   "id": "622838ebd9f00b6"
  },
  {
   "metadata": {
    "ExecuteTime": {
     "end_time": "2025-02-20T17:35:23.787719Z",
     "start_time": "2025-02-20T17:35:22.751559Z"
    }
   },
   "cell_type": "code",
   "source": [
    "from langchain_core.messages import RemoveMessage\n",
    "\n",
    "# Create Filter Node\n",
    "def filter_messages(state: MessagesState):\n",
    "    # Delete all but the 2 most recent messages\n",
    "    delete_messages = [RemoveMessage(id=m.id) for m in state[\"messages\"][:-2]]\n",
    "    return {\"messages\": delete_messages}\n",
    "\n",
    "def chat_model_node(state: MessagesState):    \n",
    "    return {\"messages\": [model.invoke(state[\"messages\"])]}\n",
    "\n",
    "\n",
    "# Build graph\n",
    "builder = StateGraph(MessagesState)\n",
    "\n",
    "builder.add_node(\"filter\", filter_messages)\n",
    "builder.add_node(\"chat_model\", chat_model_node)\n",
    "\n",
    "builder.add_edge(START, \"filter\")\n",
    "builder.add_edge(\"filter\", \"chat_model\")\n",
    "builder.add_edge(\"chat_model\", END)\n",
    "\n",
    "graph = builder.compile()\n",
    "\n",
    "display(Image(graph.get_graph().draw_mermaid_png()))"
   ],
   "id": "94348f0e4466f994",
   "outputs": [
    {
     "data": {
      "image/png": "[encoded data removed]",
      "text/plain": [
       "<IPython.core.display.Image object>"
      ]
     },
     "metadata": {},
     "output_type": "display_data"
    }
   ],
   "execution_count": 33
  },
  {
   "metadata": {
    "ExecuteTime": {
     "end_time": "2025-02-20T16:54:48.273368Z",
     "start_time": "2025-02-20T16:53:59.702058Z"
    }
   },
   "cell_type": "code",
   "source": [
    "output = graph.invoke({'messages': messages})\n",
    "for m in output['messages']:\n",
    "    m.pretty_print()"
   ],
   "id": "d87488605a95c52c",
   "outputs": [
    {
     "name": "stdout",
     "output_type": "stream",
     "text": [
      "==================================\u001B[1m Ai Message \u001B[0m==================================\n",
      "Name: Bot\n",
      "\n",
      "所以你说你正在研究海洋生物吗?\n",
      "================================\u001B[1m Human Message \u001B[0m=================================\n",
      "Name: RottenTangerine\n",
      "\n",
      "是的我了解蓝鲸,可以详细讲讲还有什么其他的可以了解吗?\n",
      "==================================\u001B[1m Ai Message \u001B[0m==================================\n",
      "\n",
      "当然可以！海洋生物种类繁多，除了蓝鲸，还有很多其他有趣的生物值得了解。以下是一些不同类别的海洋生物，供你参考：\n",
      "\n",
      "### 1. **海洋哺乳动物**\n",
      "   - **海豚**：海豚是高度智能的海洋哺乳动物，以其社交行为和回声定位能力闻名。它们通常生活在群体中，被称为“海豚群”。\n",
      "   - **虎鲸（逆戟鲸）**：虎鲸是顶级捕食者，以复杂的社交结构和狩猎技巧著称。它们会捕食鱼类、海豹甚至其他鲸类。\n",
      "   - **海豹和海狮**：这些鳍足类动物适应了水生和陆地生活，通常生活在寒冷的海域。\n",
      "\n",
      "### 2. **鱼类**\n",
      "   - **鲨鱼**：鲨鱼是海洋中的顶级掠食者，种类繁多，从大白鲨到温和的鲸鲨都有。鲸鲨是世界上最大的鱼类，以浮游生物为食。\n",
      "   - **珊瑚鱼**：珊瑚礁是海洋中最丰富的生态系统之一，生活着许多色彩斑斓的鱼类，如小丑鱼、蝴蝶鱼和鹦嘴鱼。\n",
      "   - **鳗鱼**：鳗鱼有着独特的生活史，许多种类会在淡水和海水之间迁徙，如欧洲鳗鲡。\n",
      "\n",
      "### 3. **无脊椎动物**\n",
      "   - **章鱼和乌贼**：这些头足类动物以其高智商和复杂的伪装能力著称。章鱼有八条触手，而乌贼有十条。\n",
      "   - **珊瑚**：珊瑚是由微小的珊瑚虫组成的，它们分泌碳酸钙形成珊瑚礁。珊瑚礁是海洋生物多样性的热点。\n",
      "   - **海星和海胆**：这些棘皮动物在海洋生态系统中扮演着重要角色，尤其是海胆，它们可以控制海藻的生长。\n",
      "\n",
      "### 4. **海洋爬行动物**\n",
      "   - **海龟**：海龟是古老的海洋爬行动物，种类包括绿海龟、玳瑁和棱皮龟。它们在全球的海洋中迁徙，通常在特定的海滩上产卵。\n",
      "   - **海蛇**：海蛇是唯一完全适应海洋生活的蛇类，它们大多数生活在印度洋和太平洋的热带海域。\n",
      "\n",
      "### 5. **海洋鸟类**\n",
      "   - **信天翁**：信天翁是远洋鸟类，以其巨大的翼展和长途飞行能力著称。它们可以在海上飞行数月而不着陆。\n",
      "   - **企鹅**：虽然企鹅主要生活在南极地区，但它们是完全适应海洋生活的鸟类，擅长游泳和潜水。\n",
      "\n",
      "### 6. **浮游生物**\n",
      "   - **浮游植物**：浮游植物是海洋食物链的基础，通过光合作用产生大量氧气。它们包括硅藻和甲藻等。\n",
      "   - **浮游动物**：浮游动物包括小型甲壳类动物（如桡足类）和浮游幼虫，它们是许多海洋生物的重要食物来源。\n",
      "\n",
      "### 7. **深海生物**\n",
      "   - **深海鱼类**：深海环境中的鱼类通常具有特殊的适应能力，如发光器官（生物发光）和巨大的嘴巴，以应对极端的压力和黑暗环境。例如，深海鮟鱇鱼和深海蝰鱼。\n",
      "   - **热液喷口生物**：在深海热液喷口周围，生活着一些独特的生物，如管状蠕虫和热液喷口蟹，它们依赖化学能而非太阳能生存。\n",
      "\n",
      "### 8. **海洋植物**\n",
      "   - **海草**：海草是海洋中的开花植物，形成海草床，为许多海洋生物提供栖息地和食物来源。\n",
      "   - **海藻**：海藻包括褐藻、红藻和绿藻，它们在海洋生态系统中扮演着重要角色，既是食物来源，也是栖息地。\n",
      "\n",
      "### 9. **海洋微生物**\n",
      "   - **细菌和古菌**：海洋中的微生物在营养循环和能量流动中起着关键作用。例如，一些古菌可以在极端环境中生存，如深海热液喷口。\n",
      "   - **病毒**：海洋病毒是海洋生态系统中数量最多的生物实体，它们通过感染细菌和其他微生物来调节海洋生态系统。\n",
      "\n",
      "### 10. **海洋生态系统**\n",
      "   - **珊瑚礁**：珊瑚礁被称为“海洋中的热带雨林”，拥有极高的生物多样性。\n",
      "   - **深海平原**：深海平原是地球上最大的生态系统之一，虽然生物密度较低，但种类繁多。\n",
      "   - **极地海洋**：极地海洋生态系统适应了极端寒冷的环境，生活着如企鹅、北极熊和极地鲸类等生物。\n",
      "\n",
      "这些只是海洋生物多样性的一小部分。如果你对某个特定类别或物种感兴趣，可以进一步深入探讨！\n"
     ]
    }
   ],
   "execution_count": 22
  },
  {
   "metadata": {},
   "cell_type": "markdown",
   "source": "## Filter the messages pass to the chat model",
   "id": "117a3cfcd40ae8e"
  },
  {
   "metadata": {
    "ExecuteTime": {
     "end_time": "2025-02-20T17:35:15.411361Z",
     "start_time": "2025-02-20T17:35:15.271721Z"
    }
   },
   "cell_type": "code",
   "source": [
    "# Node\n",
    "def chat_model_node(state: MessagesState):\n",
    "    # model only receives the latest message content.\n",
    "    return {\"messages\": [model.invoke(state[\"messages\"][-1:])]}\n",
    "\n",
    "# Build graph\n",
    "builder = StateGraph(MessagesState)\n",
    "\n",
    "builder.add_node(\"chat_model\", chat_model_node)\n",
    "\n",
    "builder.add_edge(START, \"chat_model\")\n",
    "builder.add_edge(\"chat_model\", END)\n",
    "\n",
    "graph = builder.compile()\n",
    "\n",
    "display(Image(graph.get_graph().draw_mermaid_png()))"
   ],
   "id": "8c3007370f8b8858",
   "outputs": [
    {
     "data": {
      "image/png": "[encoded data removed]",
      "text/plain": [
       "<IPython.core.display.Image object>"
      ]
     },
     "metadata": {},
     "output_type": "display_data"
    }
   ],
   "execution_count": 32
  },
  {
   "metadata": {
    "ExecuteTime": {
     "end_time": "2025-02-20T17:00:38.473535Z",
     "start_time": "2025-02-20T17:00:04.853971Z"
    }
   },
   "cell_type": "code",
   "source": [
    "output = graph.invoke({'messages': messages})\n",
    "for m in output['messages']:\n",
    "    m.pretty_print()"
   ],
   "id": "c40c370aec3505cc",
   "outputs": [
    {
     "name": "stdout",
     "output_type": "stream",
     "text": [
      "==================================\u001B[1m Ai Message \u001B[0m==================================\n",
      "Name: Bot\n",
      "\n",
      "Hi.\n",
      "================================\u001B[1m Human Message \u001B[0m=================================\n",
      "Name: Lance\n",
      "\n",
      "Hi.\n",
      "==================================\u001B[1m Ai Message \u001B[0m==================================\n",
      "Name: Bot\n",
      "\n",
      "所以你说你正在研究海洋生物吗?\n",
      "================================\u001B[1m Human Message \u001B[0m=================================\n",
      "Name: RottenTangerine\n",
      "\n",
      "是的我了解蓝鲸,可以详细讲讲还有什么其他的可以了解吗?\n",
      "==================================\u001B[1m Ai Message \u001B[0m==================================\n",
      "\n",
      "当然可以！蓝鲸（Balaenoptera musculus）是地球上已知最大的动物，也是现存最大的哺乳动物。除了蓝鲸，海洋中还有许多其他令人惊叹的生物和生态系统值得了解。以下是一些你可以进一步探索的主题：\n",
      "\n",
      "### 1. **其他鲸类**\n",
      "   - **座头鲸（Humpback Whale）**：以其复杂的歌声和壮观的跃出水面行为而闻名。\n",
      "   - **抹香鲸（Sperm Whale）**：以其巨大的头部和深潜能力著称，是《白鲸记》中的主角。\n",
      "   - **虎鲸（Orca）**：也被称为“杀人鲸”，是海洋中的顶级掠食者，具有高度的社会性和智慧。\n",
      "\n",
      "### 2. **海洋生态系统**\n",
      "   - **珊瑚礁**：被称为“海洋中的热带雨林”，是地球上生物多样性最丰富的生态系统之一。\n",
      "   - **深海生态系统**：包括热液喷口、冷泉和深海平原，这些地方生活着许多独特的生物，如管虫、深海鱼和巨型乌贼。\n",
      "\n",
      "### 3. **海洋哺乳动物**\n",
      "   - **海豚**：以其高智商和复杂的社会行为而闻名。\n",
      "   - **海豹和海狮**：这些鳍足类动物在海洋和陆地之间生活，具有出色的游泳和潜水能力。\n",
      "   - **海牛和儒艮**：这些温和的草食性动物被称为“海牛”，生活在热带和亚热带水域。\n",
      "\n",
      "### 4. **海洋保护**\n",
      "   - **海洋污染**：塑料污染、石油泄漏和化学污染对海洋生物和生态系统造成了严重威胁。\n",
      "   - **过度捕捞**：全球渔业资源的过度开发导致许多鱼类种群濒临崩溃。\n",
      "   - **气候变化**：海洋酸化、海平面上升和海洋温度变化对海洋生物和生态系统产生了深远影响。\n",
      "\n",
      "### 5. **海洋探险与科学研究**\n",
      "   - **深海探险**：使用潜水器和遥控设备探索深海，发现新物种和未知的生态系统。\n",
      "   - **海洋生物学**：研究海洋生物的生态、行为和进化，帮助我们更好地理解和保护海洋。\n",
      "\n",
      "### 6. **海洋文化与历史**\n",
      "   - **航海历史**：从古代航海家到现代航海技术，人类与海洋的关系历史悠久。\n",
      "   - **海洋神话与传说**：许多文化中都有关于海洋的神话和传说，如希腊神话中的波塞冬和中国神话中的龙王。\n",
      "\n",
      "### 7. **海洋资源与利用**\n",
      "   - **渔业与水产养殖**：海洋为人类提供了丰富的食物资源，但也面临着可持续利用的挑战。\n",
      "   - **海洋能源**：包括潮汐能、波浪能和海上风能等可再生能源的开发。\n",
      "\n",
      "### 8. **海洋旅游与娱乐**\n",
      "   - **潜水与浮潜**：探索海底世界，近距离观察海洋生物。\n",
      "   - **观鲸旅游**：在特定地区可以参加观鲸活动，近距离观察这些巨大的海洋生物。\n",
      "\n",
      "通过了解这些主题，你可以更全面地认识海洋的多样性和复杂性，以及人类与海洋之间的紧密联系。希望这些信息对你有所帮助！如果你有更多具体的问题或兴趣点，欢迎继续提问。\n"
     ]
    }
   ],
   "execution_count": 26
  },
  {
   "metadata": {},
   "cell_type": "markdown",
   "source": "# Trim: Truncate for long message",
   "id": "9f39b25e7fb7e7e8"
  },
  {
   "metadata": {
    "ExecuteTime": {
     "end_time": "2025-02-20T17:34:26.806838Z",
     "start_time": "2025-02-20T17:34:26.656145Z"
    }
   },
   "cell_type": "code",
   "source": [
    "from langchain_core.messages import trim_messages\n",
    "from langchain_openai import ChatOpenAI\n",
    "\n",
    "# Node\n",
    "def chat_model_node(state: MessagesState):\n",
    "    messages = trim_messages(\n",
    "            state[\"messages\"],\n",
    "            max_tokens=100,\n",
    "            strategy=\"last\",\n",
    "            token_counter=ChatOpenAI(model=\"gpt-4o\"),\n",
    "            allow_partial=False,\n",
    "        )\n",
    "    return {\"messages\": [model.invoke(messages)]}\n",
    "\n",
    "# Build graph\n",
    "builder = StateGraph(MessagesState)\n",
    "builder.add_node(\"chat_model\", chat_model_node)\n",
    "builder.add_edge(START, \"chat_model\")\n",
    "builder.add_edge(\"chat_model\", END)\n",
    "graph = builder.compile()\n",
    "\n",
    "display(Image(graph.get_graph().draw_mermaid_png()))"
   ],
   "id": "64bac4d77319e495",
   "outputs": [
    {
     "data": {
      "image/png": "[encoded data removed]",
      "text/plain": [
       "<IPython.core.display.Image object>"
      ]
     },
     "metadata": {},
     "output_type": "display_data"
    }
   ],
   "execution_count": 31
  },
  {
   "metadata": {
    "ExecuteTime": {
     "end_time": "2025-02-20T17:03:58.338995Z",
     "start_time": "2025-02-20T17:03:57.962557Z"
    }
   },
   "cell_type": "code",
   "source": [
    "messages.append(output['messages'][-1])\n",
    "messages.append(HumanMessage(f\"Tell me where Orcas live!\", name=\"Lance\"))\n",
    "\n",
    "output = graph.invoke({'messages': messages})\n",
    "for m in output['messages']:\n",
    "    m.pretty_print()"
   ],
   "id": "2404409542377828",
   "outputs": [
    {
     "ename": "OpenAIError",
     "evalue": "The api_key client option must be set either by passing api_key to the client or by setting the OPENAI_API_KEY environment variable",
     "output_type": "error",
     "traceback": [
      "\u001B[1;31m---------------------------------------------------------------------------\u001B[0m",
      "\u001B[1;31mOpenAIError\u001B[0m                               Traceback (most recent call last)",
      "Cell \u001B[1;32mIn[30], line 4\u001B[0m\n\u001B[0;32m      1\u001B[0m messages\u001B[38;5;241m.\u001B[39mappend(output[\u001B[38;5;124m'\u001B[39m\u001B[38;5;124mmessages\u001B[39m\u001B[38;5;124m'\u001B[39m][\u001B[38;5;241m-\u001B[39m\u001B[38;5;241m1\u001B[39m])\n\u001B[0;32m      2\u001B[0m messages\u001B[38;5;241m.\u001B[39mappend(HumanMessage(\u001B[38;5;124mf\u001B[39m\u001B[38;5;124m\"\u001B[39m\u001B[38;5;124mTell me where Orcas live!\u001B[39m\u001B[38;5;124m\"\u001B[39m, name\u001B[38;5;241m=\u001B[39m\u001B[38;5;124m\"\u001B[39m\u001B[38;5;124mLance\u001B[39m\u001B[38;5;124m\"\u001B[39m))\n\u001B[1;32m----> 4\u001B[0m output \u001B[38;5;241m=\u001B[39m \u001B[43mgraph\u001B[49m\u001B[38;5;241;43m.\u001B[39;49m\u001B[43minvoke\u001B[49m\u001B[43m(\u001B[49m\u001B[43m{\u001B[49m\u001B[38;5;124;43m'\u001B[39;49m\u001B[38;5;124;43mmessages\u001B[39;49m\u001B[38;5;124;43m'\u001B[39;49m\u001B[43m:\u001B[49m\u001B[43m \u001B[49m\u001B[43mmessages\u001B[49m\u001B[43m}\u001B[49m\u001B[43m)\u001B[49m\n\u001B[0;32m      5\u001B[0m \u001B[38;5;28;01mfor\u001B[39;00m m \u001B[38;5;129;01min\u001B[39;00m output[\u001B[38;5;124m'\u001B[39m\u001B[38;5;124mmessages\u001B[39m\u001B[38;5;124m'\u001B[39m]:\n\u001B[0;32m      6\u001B[0m     m\u001B[38;5;241m.\u001B[39mpretty_print()\n",
      "File \u001B[1;32mG:\\Workspace\\Pycharm\\LangChainPlayground\\venv\\Lib\\site-packages\\langgraph\\pregel\\__init__.py:2142\u001B[0m, in \u001B[0;36mPregel.invoke\u001B[1;34m(self, input, config, stream_mode, output_keys, interrupt_before, interrupt_after, debug, **kwargs)\u001B[0m\n\u001B[0;32m   2140\u001B[0m \u001B[38;5;28;01melse\u001B[39;00m:\n\u001B[0;32m   2141\u001B[0m     chunks \u001B[38;5;241m=\u001B[39m []\n\u001B[1;32m-> 2142\u001B[0m \u001B[43m\u001B[49m\u001B[38;5;28;43;01mfor\u001B[39;49;00m\u001B[43m \u001B[49m\u001B[43mchunk\u001B[49m\u001B[43m \u001B[49m\u001B[38;5;129;43;01min\u001B[39;49;00m\u001B[43m \u001B[49m\u001B[38;5;28;43mself\u001B[39;49m\u001B[38;5;241;43m.\u001B[39;49m\u001B[43mstream\u001B[49m\u001B[43m(\u001B[49m\n\u001B[0;32m   2143\u001B[0m \u001B[43m    \u001B[49m\u001B[38;5;28;43minput\u001B[39;49m\u001B[43m,\u001B[49m\n\u001B[0;32m   2144\u001B[0m \u001B[43m    \u001B[49m\u001B[43mconfig\u001B[49m\u001B[43m,\u001B[49m\n\u001B[0;32m   2145\u001B[0m \u001B[43m    \u001B[49m\u001B[43mstream_mode\u001B[49m\u001B[38;5;241;43m=\u001B[39;49m\u001B[43mstream_mode\u001B[49m\u001B[43m,\u001B[49m\n\u001B[0;32m   2146\u001B[0m \u001B[43m    \u001B[49m\u001B[43moutput_keys\u001B[49m\u001B[38;5;241;43m=\u001B[39;49m\u001B[43moutput_keys\u001B[49m\u001B[43m,\u001B[49m\n\u001B[0;32m   2147\u001B[0m \u001B[43m    \u001B[49m\u001B[43minterrupt_before\u001B[49m\u001B[38;5;241;43m=\u001B[39;49m\u001B[43minterrupt_before\u001B[49m\u001B[43m,\u001B[49m\n\u001B[0;32m   2148\u001B[0m \u001B[43m    \u001B[49m\u001B[43minterrupt_after\u001B[49m\u001B[38;5;241;43m=\u001B[39;49m\u001B[43minterrupt_after\u001B[49m\u001B[43m,\u001B[49m\n\u001B[0;32m   2149\u001B[0m \u001B[43m    \u001B[49m\u001B[43mdebug\u001B[49m\u001B[38;5;241;43m=\u001B[39;49m\u001B[43mdebug\u001B[49m\u001B[43m,\u001B[49m\n\u001B[0;32m   2150\u001B[0m \u001B[43m    \u001B[49m\u001B[38;5;241;43m*\u001B[39;49m\u001B[38;5;241;43m*\u001B[39;49m\u001B[43mkwargs\u001B[49m\u001B[43m,\u001B[49m\n\u001B[0;32m   2151\u001B[0m \u001B[43m\u001B[49m\u001B[43m)\u001B[49m\u001B[43m:\u001B[49m\n\u001B[0;32m   2152\u001B[0m \u001B[43m    \u001B[49m\u001B[38;5;28;43;01mif\u001B[39;49;00m\u001B[43m \u001B[49m\u001B[43mstream_mode\u001B[49m\u001B[43m \u001B[49m\u001B[38;5;241;43m==\u001B[39;49m\u001B[43m \u001B[49m\u001B[38;5;124;43m\"\u001B[39;49m\u001B[38;5;124;43mvalues\u001B[39;49m\u001B[38;5;124;43m\"\u001B[39;49m\u001B[43m:\u001B[49m\n\u001B[0;32m   2153\u001B[0m \u001B[43m        \u001B[49m\u001B[43mlatest\u001B[49m\u001B[43m \u001B[49m\u001B[38;5;241;43m=\u001B[39;49m\u001B[43m \u001B[49m\u001B[43mchunk\u001B[49m\n",
      "File \u001B[1;32mG:\\Workspace\\Pycharm\\LangChainPlayground\\venv\\Lib\\site-packages\\langgraph\\pregel\\__init__.py:1797\u001B[0m, in \u001B[0;36mPregel.stream\u001B[1;34m(self, input, config, stream_mode, output_keys, interrupt_before, interrupt_after, debug, subgraphs)\u001B[0m\n\u001B[0;32m   1791\u001B[0m     \u001B[38;5;66;03m# Similarly to Bulk Synchronous Parallel / Pregel model\u001B[39;00m\n\u001B[0;32m   1792\u001B[0m     \u001B[38;5;66;03m# computation proceeds in steps, while there are channel updates.\u001B[39;00m\n\u001B[0;32m   1793\u001B[0m     \u001B[38;5;66;03m# Channel updates from step N are only visible in step N+1\u001B[39;00m\n\u001B[0;32m   1794\u001B[0m     \u001B[38;5;66;03m# channels are guaranteed to be immutable for the duration of the step,\u001B[39;00m\n\u001B[0;32m   1795\u001B[0m     \u001B[38;5;66;03m# with channel updates applied only at the transition between steps.\u001B[39;00m\n\u001B[0;32m   1796\u001B[0m     \u001B[38;5;28;01mwhile\u001B[39;00m loop\u001B[38;5;241m.\u001B[39mtick(input_keys\u001B[38;5;241m=\u001B[39m\u001B[38;5;28mself\u001B[39m\u001B[38;5;241m.\u001B[39minput_channels):\n\u001B[1;32m-> 1797\u001B[0m \u001B[43m        \u001B[49m\u001B[38;5;28;43;01mfor\u001B[39;49;00m\u001B[43m \u001B[49m\u001B[43m_\u001B[49m\u001B[43m \u001B[49m\u001B[38;5;129;43;01min\u001B[39;49;00m\u001B[43m \u001B[49m\u001B[43mrunner\u001B[49m\u001B[38;5;241;43m.\u001B[39;49m\u001B[43mtick\u001B[49m\u001B[43m(\u001B[49m\n\u001B[0;32m   1798\u001B[0m \u001B[43m            \u001B[49m\u001B[43mloop\u001B[49m\u001B[38;5;241;43m.\u001B[39;49m\u001B[43mtasks\u001B[49m\u001B[38;5;241;43m.\u001B[39;49m\u001B[43mvalues\u001B[49m\u001B[43m(\u001B[49m\u001B[43m)\u001B[49m\u001B[43m,\u001B[49m\n\u001B[0;32m   1799\u001B[0m \u001B[43m            \u001B[49m\u001B[43mtimeout\u001B[49m\u001B[38;5;241;43m=\u001B[39;49m\u001B[38;5;28;43mself\u001B[39;49m\u001B[38;5;241;43m.\u001B[39;49m\u001B[43mstep_timeout\u001B[49m\u001B[43m,\u001B[49m\n\u001B[0;32m   1800\u001B[0m \u001B[43m            \u001B[49m\u001B[43mretry_policy\u001B[49m\u001B[38;5;241;43m=\u001B[39;49m\u001B[38;5;28;43mself\u001B[39;49m\u001B[38;5;241;43m.\u001B[39;49m\u001B[43mretry_policy\u001B[49m\u001B[43m,\u001B[49m\n\u001B[0;32m   1801\u001B[0m \u001B[43m            \u001B[49m\u001B[43mget_waiter\u001B[49m\u001B[38;5;241;43m=\u001B[39;49m\u001B[43mget_waiter\u001B[49m\u001B[43m,\u001B[49m\n\u001B[0;32m   1802\u001B[0m \u001B[43m        \u001B[49m\u001B[43m)\u001B[49m\u001B[43m:\u001B[49m\n\u001B[0;32m   1803\u001B[0m \u001B[43m            \u001B[49m\u001B[38;5;66;43;03m# emit output\u001B[39;49;00m\n\u001B[0;32m   1804\u001B[0m \u001B[43m            \u001B[49m\u001B[38;5;28;43;01myield from\u001B[39;49;00m\u001B[43m \u001B[49m\u001B[43moutput\u001B[49m\u001B[43m(\u001B[49m\u001B[43m)\u001B[49m\n\u001B[0;32m   1805\u001B[0m \u001B[38;5;66;03m# emit output\u001B[39;00m\n",
      "File \u001B[1;32mG:\\Workspace\\Pycharm\\LangChainPlayground\\venv\\Lib\\site-packages\\langgraph\\pregel\\runner.py:230\u001B[0m, in \u001B[0;36mPregelRunner.tick\u001B[1;34m(self, tasks, reraise, timeout, retry_policy, get_waiter)\u001B[0m\n\u001B[0;32m    228\u001B[0m t \u001B[38;5;241m=\u001B[39m tasks[\u001B[38;5;241m0\u001B[39m]\n\u001B[0;32m    229\u001B[0m \u001B[38;5;28;01mtry\u001B[39;00m:\n\u001B[1;32m--> 230\u001B[0m     \u001B[43mrun_with_retry\u001B[49m\u001B[43m(\u001B[49m\n\u001B[0;32m    231\u001B[0m \u001B[43m        \u001B[49m\u001B[43mt\u001B[49m\u001B[43m,\u001B[49m\n\u001B[0;32m    232\u001B[0m \u001B[43m        \u001B[49m\u001B[43mretry_policy\u001B[49m\u001B[43m,\u001B[49m\n\u001B[0;32m    233\u001B[0m \u001B[43m        \u001B[49m\u001B[43mconfigurable\u001B[49m\u001B[38;5;241;43m=\u001B[39;49m\u001B[43m{\u001B[49m\n\u001B[0;32m    234\u001B[0m \u001B[43m            \u001B[49m\u001B[43mCONFIG_KEY_SEND\u001B[49m\u001B[43m:\u001B[49m\u001B[43m \u001B[49m\u001B[43mpartial\u001B[49m\u001B[43m(\u001B[49m\u001B[43mwriter\u001B[49m\u001B[43m,\u001B[49m\u001B[43m \u001B[49m\u001B[43mt\u001B[49m\u001B[43m)\u001B[49m\u001B[43m,\u001B[49m\n\u001B[0;32m    235\u001B[0m \u001B[43m            \u001B[49m\u001B[43mCONFIG_KEY_CALL\u001B[49m\u001B[43m:\u001B[49m\u001B[43m \u001B[49m\u001B[43mpartial\u001B[49m\u001B[43m(\u001B[49m\u001B[43mcall\u001B[49m\u001B[43m,\u001B[49m\u001B[43m \u001B[49m\u001B[43mt\u001B[49m\u001B[43m)\u001B[49m\u001B[43m,\u001B[49m\n\u001B[0;32m    236\u001B[0m \u001B[43m        \u001B[49m\u001B[43m}\u001B[49m\u001B[43m,\u001B[49m\n\u001B[0;32m    237\u001B[0m \u001B[43m    \u001B[49m\u001B[43m)\u001B[49m\n\u001B[0;32m    238\u001B[0m     \u001B[38;5;28mself\u001B[39m\u001B[38;5;241m.\u001B[39mcommit(t, \u001B[38;5;28;01mNone\u001B[39;00m)\n\u001B[0;32m    239\u001B[0m \u001B[38;5;28;01mexcept\u001B[39;00m \u001B[38;5;167;01mException\u001B[39;00m \u001B[38;5;28;01mas\u001B[39;00m exc:\n",
      "File \u001B[1;32mG:\\Workspace\\Pycharm\\LangChainPlayground\\venv\\Lib\\site-packages\\langgraph\\pregel\\retry.py:40\u001B[0m, in \u001B[0;36mrun_with_retry\u001B[1;34m(task, retry_policy, configurable)\u001B[0m\n\u001B[0;32m     38\u001B[0m     task\u001B[38;5;241m.\u001B[39mwrites\u001B[38;5;241m.\u001B[39mclear()\n\u001B[0;32m     39\u001B[0m     \u001B[38;5;66;03m# run the task\u001B[39;00m\n\u001B[1;32m---> 40\u001B[0m     \u001B[38;5;28;01mreturn\u001B[39;00m \u001B[43mtask\u001B[49m\u001B[38;5;241;43m.\u001B[39;49m\u001B[43mproc\u001B[49m\u001B[38;5;241;43m.\u001B[39;49m\u001B[43minvoke\u001B[49m\u001B[43m(\u001B[49m\u001B[43mtask\u001B[49m\u001B[38;5;241;43m.\u001B[39;49m\u001B[43minput\u001B[49m\u001B[43m,\u001B[49m\u001B[43m \u001B[49m\u001B[43mconfig\u001B[49m\u001B[43m)\u001B[49m\n\u001B[0;32m     41\u001B[0m \u001B[38;5;28;01mexcept\u001B[39;00m ParentCommand \u001B[38;5;28;01mas\u001B[39;00m exc:\n\u001B[0;32m     42\u001B[0m     ns: \u001B[38;5;28mstr\u001B[39m \u001B[38;5;241m=\u001B[39m config[CONF][CONFIG_KEY_CHECKPOINT_NS]\n",
      "File \u001B[1;32mG:\\Workspace\\Pycharm\\LangChainPlayground\\venv\\Lib\\site-packages\\langgraph\\utils\\runnable.py:546\u001B[0m, in \u001B[0;36mRunnableSeq.invoke\u001B[1;34m(self, input, config, **kwargs)\u001B[0m\n\u001B[0;32m    542\u001B[0m config \u001B[38;5;241m=\u001B[39m patch_config(\n\u001B[0;32m    543\u001B[0m     config, callbacks\u001B[38;5;241m=\u001B[39mrun_manager\u001B[38;5;241m.\u001B[39mget_child(\u001B[38;5;124mf\u001B[39m\u001B[38;5;124m\"\u001B[39m\u001B[38;5;124mseq:step:\u001B[39m\u001B[38;5;132;01m{\u001B[39;00mi\u001B[38;5;250m \u001B[39m\u001B[38;5;241m+\u001B[39m\u001B[38;5;250m \u001B[39m\u001B[38;5;241m1\u001B[39m\u001B[38;5;132;01m}\u001B[39;00m\u001B[38;5;124m\"\u001B[39m)\n\u001B[0;32m    544\u001B[0m )\n\u001B[0;32m    545\u001B[0m \u001B[38;5;28;01mif\u001B[39;00m i \u001B[38;5;241m==\u001B[39m \u001B[38;5;241m0\u001B[39m:\n\u001B[1;32m--> 546\u001B[0m     \u001B[38;5;28minput\u001B[39m \u001B[38;5;241m=\u001B[39m \u001B[43mstep\u001B[49m\u001B[38;5;241;43m.\u001B[39;49m\u001B[43minvoke\u001B[49m\u001B[43m(\u001B[49m\u001B[38;5;28;43minput\u001B[39;49m\u001B[43m,\u001B[49m\u001B[43m \u001B[49m\u001B[43mconfig\u001B[49m\u001B[43m,\u001B[49m\u001B[43m \u001B[49m\u001B[38;5;241;43m*\u001B[39;49m\u001B[38;5;241;43m*\u001B[39;49m\u001B[43mkwargs\u001B[49m\u001B[43m)\u001B[49m\n\u001B[0;32m    547\u001B[0m \u001B[38;5;28;01melse\u001B[39;00m:\n\u001B[0;32m    548\u001B[0m     \u001B[38;5;28minput\u001B[39m \u001B[38;5;241m=\u001B[39m step\u001B[38;5;241m.\u001B[39minvoke(\u001B[38;5;28minput\u001B[39m, config)\n",
      "File \u001B[1;32mG:\\Workspace\\Pycharm\\LangChainPlayground\\venv\\Lib\\site-packages\\langgraph\\utils\\runnable.py:310\u001B[0m, in \u001B[0;36mRunnableCallable.invoke\u001B[1;34m(self, input, config, **kwargs)\u001B[0m\n\u001B[0;32m    308\u001B[0m \u001B[38;5;28;01melse\u001B[39;00m:\n\u001B[0;32m    309\u001B[0m     context\u001B[38;5;241m.\u001B[39mrun(_set_config_context, config)\n\u001B[1;32m--> 310\u001B[0m     ret \u001B[38;5;241m=\u001B[39m \u001B[43mcontext\u001B[49m\u001B[38;5;241;43m.\u001B[39;49m\u001B[43mrun\u001B[49m\u001B[43m(\u001B[49m\u001B[38;5;28;43mself\u001B[39;49m\u001B[38;5;241;43m.\u001B[39;49m\u001B[43mfunc\u001B[49m\u001B[43m,\u001B[49m\u001B[43m \u001B[49m\u001B[38;5;241;43m*\u001B[39;49m\u001B[43margs\u001B[49m\u001B[43m,\u001B[49m\u001B[43m \u001B[49m\u001B[38;5;241;43m*\u001B[39;49m\u001B[38;5;241;43m*\u001B[39;49m\u001B[43mkwargs\u001B[49m\u001B[43m)\u001B[49m\n\u001B[0;32m    311\u001B[0m \u001B[38;5;28;01mif\u001B[39;00m \u001B[38;5;28misinstance\u001B[39m(ret, Runnable) \u001B[38;5;129;01mand\u001B[39;00m \u001B[38;5;28mself\u001B[39m\u001B[38;5;241m.\u001B[39mrecurse:\n\u001B[0;32m    312\u001B[0m     \u001B[38;5;28;01mreturn\u001B[39;00m ret\u001B[38;5;241m.\u001B[39minvoke(\u001B[38;5;28minput\u001B[39m, config)\n",
      "Cell \u001B[1;32mIn[29], line 10\u001B[0m, in \u001B[0;36mchat_model_node\u001B[1;34m(state)\u001B[0m\n\u001B[0;32m      5\u001B[0m \u001B[38;5;28;01mdef\u001B[39;00m\u001B[38;5;250m \u001B[39m\u001B[38;5;21mchat_model_node\u001B[39m(state: MessagesState):\n\u001B[0;32m      6\u001B[0m     messages \u001B[38;5;241m=\u001B[39m trim_messages(\n\u001B[0;32m      7\u001B[0m             state[\u001B[38;5;124m\"\u001B[39m\u001B[38;5;124mmessages\u001B[39m\u001B[38;5;124m\"\u001B[39m],\n\u001B[0;32m      8\u001B[0m             max_tokens\u001B[38;5;241m=\u001B[39m\u001B[38;5;241m100\u001B[39m,\n\u001B[0;32m      9\u001B[0m             strategy\u001B[38;5;241m=\u001B[39m\u001B[38;5;124m\"\u001B[39m\u001B[38;5;124mlast\u001B[39m\u001B[38;5;124m\"\u001B[39m,\n\u001B[1;32m---> 10\u001B[0m             token_counter\u001B[38;5;241m=\u001B[39m\u001B[43mChatOpenAI\u001B[49m\u001B[43m(\u001B[49m\u001B[43mmodel\u001B[49m\u001B[38;5;241;43m=\u001B[39;49m\u001B[38;5;124;43m\"\u001B[39;49m\u001B[38;5;124;43mgpt-4o\u001B[39;49m\u001B[38;5;124;43m\"\u001B[39;49m\u001B[43m)\u001B[49m,\n\u001B[0;32m     11\u001B[0m             allow_partial\u001B[38;5;241m=\u001B[39m\u001B[38;5;28;01mFalse\u001B[39;00m,\n\u001B[0;32m     12\u001B[0m         )\n\u001B[0;32m     13\u001B[0m     \u001B[38;5;28;01mreturn\u001B[39;00m {\u001B[38;5;124m\"\u001B[39m\u001B[38;5;124mmessages\u001B[39m\u001B[38;5;124m\"\u001B[39m: [model\u001B[38;5;241m.\u001B[39minvoke(messages)]}\n",
      "File \u001B[1;32mG:\\Workspace\\Pycharm\\LangChainPlayground\\venv\\Lib\\site-packages\\langchain_core\\load\\serializable.py:125\u001B[0m, in \u001B[0;36mSerializable.__init__\u001B[1;34m(self, *args, **kwargs)\u001B[0m\n\u001B[0;32m    123\u001B[0m \u001B[38;5;28;01mdef\u001B[39;00m\u001B[38;5;250m \u001B[39m\u001B[38;5;21m__init__\u001B[39m(\u001B[38;5;28mself\u001B[39m, \u001B[38;5;241m*\u001B[39margs: Any, \u001B[38;5;241m*\u001B[39m\u001B[38;5;241m*\u001B[39mkwargs: Any) \u001B[38;5;241m-\u001B[39m\u001B[38;5;241m>\u001B[39m \u001B[38;5;28;01mNone\u001B[39;00m:\n\u001B[0;32m    124\u001B[0m \u001B[38;5;250m    \u001B[39m\u001B[38;5;124;03m\"\"\"\"\"\"\u001B[39;00m\n\u001B[1;32m--> 125\u001B[0m     \u001B[38;5;28;43msuper\u001B[39;49m\u001B[43m(\u001B[49m\u001B[43m)\u001B[49m\u001B[38;5;241;43m.\u001B[39;49m\u001B[38;5;21;43m__init__\u001B[39;49m\u001B[43m(\u001B[49m\u001B[38;5;241;43m*\u001B[39;49m\u001B[43margs\u001B[49m\u001B[43m,\u001B[49m\u001B[43m \u001B[49m\u001B[38;5;241;43m*\u001B[39;49m\u001B[38;5;241;43m*\u001B[39;49m\u001B[43mkwargs\u001B[49m\u001B[43m)\u001B[49m\n",
      "    \u001B[1;31m[... skipping hidden 1 frame]\u001B[0m\n",
      "File \u001B[1;32mG:\\Workspace\\Pycharm\\LangChainPlayground\\venv\\Lib\\site-packages\\langchain_openai\\chat_models\\base.py:562\u001B[0m, in \u001B[0;36mBaseChatOpenAI.validate_environment\u001B[1;34m(self)\u001B[0m\n\u001B[0;32m    560\u001B[0m         \u001B[38;5;28mself\u001B[39m\u001B[38;5;241m.\u001B[39mhttp_client \u001B[38;5;241m=\u001B[39m httpx\u001B[38;5;241m.\u001B[39mClient(proxy\u001B[38;5;241m=\u001B[39m\u001B[38;5;28mself\u001B[39m\u001B[38;5;241m.\u001B[39mopenai_proxy)\n\u001B[0;32m    561\u001B[0m     sync_specific \u001B[38;5;241m=\u001B[39m {\u001B[38;5;124m\"\u001B[39m\u001B[38;5;124mhttp_client\u001B[39m\u001B[38;5;124m\"\u001B[39m: \u001B[38;5;28mself\u001B[39m\u001B[38;5;241m.\u001B[39mhttp_client}\n\u001B[1;32m--> 562\u001B[0m     \u001B[38;5;28mself\u001B[39m\u001B[38;5;241m.\u001B[39mroot_client \u001B[38;5;241m=\u001B[39m \u001B[43mopenai\u001B[49m\u001B[38;5;241;43m.\u001B[39;49m\u001B[43mOpenAI\u001B[49m\u001B[43m(\u001B[49m\u001B[38;5;241;43m*\u001B[39;49m\u001B[38;5;241;43m*\u001B[39;49m\u001B[43mclient_params\u001B[49m\u001B[43m,\u001B[49m\u001B[43m \u001B[49m\u001B[38;5;241;43m*\u001B[39;49m\u001B[38;5;241;43m*\u001B[39;49m\u001B[43msync_specific\u001B[49m\u001B[43m)\u001B[49m  \u001B[38;5;66;03m# type: ignore[arg-type]\u001B[39;00m\n\u001B[0;32m    563\u001B[0m     \u001B[38;5;28mself\u001B[39m\u001B[38;5;241m.\u001B[39mclient \u001B[38;5;241m=\u001B[39m \u001B[38;5;28mself\u001B[39m\u001B[38;5;241m.\u001B[39mroot_client\u001B[38;5;241m.\u001B[39mchat\u001B[38;5;241m.\u001B[39mcompletions\n\u001B[0;32m    564\u001B[0m \u001B[38;5;28;01mif\u001B[39;00m \u001B[38;5;129;01mnot\u001B[39;00m \u001B[38;5;28mself\u001B[39m\u001B[38;5;241m.\u001B[39masync_client:\n",
      "File \u001B[1;32mG:\\Workspace\\Pycharm\\LangChainPlayground\\venv\\Lib\\site-packages\\openai\\_client.py:110\u001B[0m, in \u001B[0;36mOpenAI.__init__\u001B[1;34m(self, api_key, organization, project, base_url, websocket_base_url, timeout, max_retries, default_headers, default_query, http_client, _strict_response_validation)\u001B[0m\n\u001B[0;32m    108\u001B[0m     api_key \u001B[38;5;241m=\u001B[39m os\u001B[38;5;241m.\u001B[39menviron\u001B[38;5;241m.\u001B[39mget(\u001B[38;5;124m\"\u001B[39m\u001B[38;5;124mOPENAI_API_KEY\u001B[39m\u001B[38;5;124m\"\u001B[39m)\n\u001B[0;32m    109\u001B[0m \u001B[38;5;28;01mif\u001B[39;00m api_key \u001B[38;5;129;01mis\u001B[39;00m \u001B[38;5;28;01mNone\u001B[39;00m:\n\u001B[1;32m--> 110\u001B[0m     \u001B[38;5;28;01mraise\u001B[39;00m OpenAIError(\n\u001B[0;32m    111\u001B[0m         \u001B[38;5;124m\"\u001B[39m\u001B[38;5;124mThe api_key client option must be set either by passing api_key to the client or by setting the OPENAI_API_KEY environment variable\u001B[39m\u001B[38;5;124m\"\u001B[39m\n\u001B[0;32m    112\u001B[0m     )\n\u001B[0;32m    113\u001B[0m \u001B[38;5;28mself\u001B[39m\u001B[38;5;241m.\u001B[39mapi_key \u001B[38;5;241m=\u001B[39m api_key\n\u001B[0;32m    115\u001B[0m \u001B[38;5;28;01mif\u001B[39;00m organization \u001B[38;5;129;01mis\u001B[39;00m \u001B[38;5;28;01mNone\u001B[39;00m:\n",
      "\u001B[1;31mOpenAIError\u001B[0m: The api_key client option must be set either by passing api_key to the client or by setting the OPENAI_API_KEY environment variable",
      "\u001B[0mDuring task with name 'chat_model' and id '19a60083-8a09-e769-9bcc-6359ea5266e4'"
     ]
    }
   ],
   "execution_count": 30
  },
  {
   "metadata": {},
   "cell_type": "markdown",
   "source": "# Summary: Summarized by LLM",
   "id": "bfd04d880f624382"
  },
  {
   "metadata": {
    "ExecuteTime": {
     "end_time": "2025-02-20T17:37:32.040222Z",
     "start_time": "2025-02-20T17:37:30.898287Z"
    }
   },
   "cell_type": "code",
   "source": [
    "from langchain_core.messages import SystemMessage\n",
    "\n",
    "def summarize_conversation(state: MessagesState):\n",
    "    # First, we get any existing summary\n",
    "    summary = state.get(\"summary\", \"\")\n",
    "\n",
    "    # Create our summarization prompt \n",
    "    if summary:\n",
    "        # A summary already exists\n",
    "        summary_message = (\n",
    "            f\"This is summary of the conversation to date: {summary}\\n\\n\"\n",
    "            \"Extend the summary by taking into account the new messages above:\"\n",
    "        )\n",
    "        \n",
    "    else:\n",
    "        summary_message = \"Create a summary of the conversation above:\"\n",
    "\n",
    "    # Add prompt to our history\n",
    "    messages = state[\"messages\"] + [HumanMessage(content=summary_message)]\n",
    "    response = model.invoke(messages)\n",
    "    \n",
    "    # Delete all but the 2 most recent messages\n",
    "    delete_messages = [RemoveMessage(id=m.id) for m in state[\"messages\"][:-2]]\n",
    "    return {\"summary\": response.content, \"messages\": delete_messages}\n",
    "\n",
    "def call_model(state: MessagesState):\n",
    "    # Get summary if it exists\n",
    "    summary = state.get(\"summary\", \"\")\n",
    "\n",
    "    # If there is summary, then we add it\n",
    "    if summary:\n",
    "        # Add summary to system message\n",
    "        system_message = f\"Summary of conversation earlier: {summary}\"\n",
    "\n",
    "        # Append summary to any newer messages\n",
    "        messages = [SystemMessage(content=system_message)] + state[\"messages\"]\n",
    "    else:\n",
    "        messages = state[\"messages\"]\n",
    "    \n",
    "    response = model.invoke(messages)\n",
    "    return {\"messages\": response}\n",
    "\n",
    "def should_continue(state: MessagesState):\n",
    "    messages = state[\"messages\"]\n",
    "    \n",
    "    if len(messages) > 6:\n",
    "        return \"summarize_conversation\"\n",
    "    return END\n",
    "\n",
    "\n",
    "builder = StateGraph(MessagesState)\n",
    "builder.add_node(\"conversation\", call_model)\n",
    "builder.add_node(summarize_conversation)\n",
    "\n",
    "# Set the entrypoint as conversation\n",
    "builder.add_edge(START, \"conversation\")\n",
    "builder.add_conditional_edges(\"conversation\", should_continue)\n",
    "builder.add_edge(\"summarize_conversation\", END)\n",
    "\n",
    "# Compile\n",
    "graph = builder.compile()\n",
    "\n",
    "display(Image(graph.get_graph().draw_mermaid_png()))"
   ],
   "id": "1356c0210267b763",
   "outputs": [
    {
     "data": {
      "image/png": "[encoded data removed]",
      "text/plain": [
       "<IPython.core.display.Image object>"
      ]
     },
     "metadata": {},
     "output_type": "display_data"
    }
   ],
   "execution_count": 35
  },
  {
   "metadata": {},
   "cell_type": "code",
   "outputs": [],
   "execution_count": null,
   "source": "",
   "id": "dd6289d614ca1f67"
  }
 ],
 "metadata": {
  "kernelspec": {
   "display_name": "Python 3",
   "language": "python",
   "name": "python3"
  },
  "language_info": {
   "codemirror_mode": {
    "name": "ipython",
    "version": 2
   },
   "file_extension": ".py",
   "mimetype": "text/x-python",
   "name": "python",
   "nbconvert_exporter": "python",
   "pygments_lexer": "ipython2",
   "version": "2.7.6"
  }
 },
 "nbformat": 4,
 "nbformat_minor": 5
}
